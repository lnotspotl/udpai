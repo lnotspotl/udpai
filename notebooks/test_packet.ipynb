{
 "cells": [
  {
   "cell_type": "code",
   "execution_count": null,
   "metadata": {},
   "outputs": [],
   "source": [
    "%load_ext autoreload\n",
    "%autoreload 2"
   ]
  },
  {
   "cell_type": "code",
   "execution_count": null,
   "metadata": {},
   "outputs": [],
   "source": [
    "import pickle\n",
    "\n",
    "from udpai.packet import Packet, PacketType"
   ]
  },
  {
   "cell_type": "code",
   "execution_count": null,
   "metadata": {},
   "outputs": [],
   "source": [
    "packet1 = Packet(\n",
    "    type = PacketType.DATA,\n",
    "    data_len=31213,\n",
    "    data = bytes(\"Lorem Ipsum\" * 100, \"utf-8\")\n",
    ")\n",
    "\n",
    "serializerd_pickle = pickle.dumps(packet1)\n",
    "print(len(serializerd_pickle))\n",
    "\n",
    "serialized_custom = packet1.to_bytes()\n",
    "print(len(serialized_custom))"
   ]
  },
  {
   "cell_type": "code",
   "execution_count": null,
   "metadata": {},
   "outputs": [],
   "source": [
    "deserialized = Packet.from_bytes(serialized_custom)\n",
    "assert deserialized.check_crc()"
   ]
  }
 ],
 "metadata": {
  "kernelspec": {
   "display_name": "Python 3",
   "language": "python",
   "name": "python3"
  },
  "language_info": {
   "codemirror_mode": {
    "name": "ipython",
    "version": 3
   },
   "file_extension": ".py",
   "mimetype": "text/x-python",
   "name": "python",
   "nbconvert_exporter": "python",
   "pygments_lexer": "ipython3",
   "version": "3.8.10"
  }
 },
 "nbformat": 4,
 "nbformat_minor": 2
}
