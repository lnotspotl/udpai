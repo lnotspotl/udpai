{
 "cells": [
  {
   "cell_type": "code",
   "execution_count": 10,
   "metadata": {},
   "outputs": [
    {
     "name": "stdout",
     "output_type": "stream",
     "text": [
      "The autoreload extension is already loaded. To reload it, use:\n",
      "  %reload_ext autoreload\n"
     ]
    }
   ],
   "source": [
    "%load_ext autoreload\n",
    "%autoreload 2"
   ]
  },
  {
   "cell_type": "code",
   "execution_count": 11,
   "metadata": {},
   "outputs": [],
   "source": [
    "import pickle\n",
    "\n",
    "from udpai.packet import Packet, PacketType"
   ]
  },
  {
   "cell_type": "code",
   "execution_count": 12,
   "metadata": {},
   "outputs": [
    {
     "name": "stdout",
     "output_type": "stream",
     "text": [
      "1214\n",
      "1109\n"
     ]
    }
   ],
   "source": [
    "packet1 = Packet(\n",
    "    type = PacketType.DATA,\n",
    "    data_len=31213,\n",
    "    data = bytes(\"Lorem Ipsum\" * 100, \"utf-8\")\n",
    ")\n",
    "\n",
    "serializerd_pickle = pickle.dumps(packet1)\n",
    "print(len(serializerd_pickle))\n",
    "\n",
    "serialized_custom = packet1.to_bytes()\n",
    "print(len(serialized_custom))"
   ]
  },
  {
   "cell_type": "code",
   "execution_count": 13,
   "metadata": {},
   "outputs": [],
   "source": [
    "deserialized = Packet.from_bytes(serialized_custom)\n",
    "assert deserialized.check_crc()"
   ]
  },
  {
   "cell_type": "code",
   "execution_count": 8,
   "metadata": {},
   "outputs": [
    {
     "ename": "OSError",
     "evalue": "[Errno 98] Address already in use",
     "output_type": "error",
     "traceback": [
      "\u001b[0;31m---------------------------------------------------------------------------\u001b[0m",
      "\u001b[0;31mOSError\u001b[0m                                   Traceback (most recent call last)",
      "\u001b[1;32m/home/kuba/Documents/uni/semester_5/kds/udpai/notebooks/test_packet.ipynb Cell 5\u001b[0m line \u001b[0;36m8\n\u001b[1;32m      <a href='vscode-notebook-cell:/home/kuba/Documents/uni/semester_5/kds/udpai/notebooks/test_packet.ipynb#W4sZmlsZQ%3D%3D?line=4'>5</a>\u001b[0m remote_ip \u001b[39m=\u001b[39m \u001b[39m\"\u001b[39m\u001b[39m10.0.0.81\u001b[39m\u001b[39m\"\u001b[39m\n\u001b[1;32m      <a href='vscode-notebook-cell:/home/kuba/Documents/uni/semester_5/kds/udpai/notebooks/test_packet.ipynb#W4sZmlsZQ%3D%3D?line=5'>6</a>\u001b[0m remote_port \u001b[39m=\u001b[39m \u001b[39m5005\u001b[39m\n\u001b[0;32m----> <a href='vscode-notebook-cell:/home/kuba/Documents/uni/semester_5/kds/udpai/notebooks/test_packet.ipynb#W4sZmlsZQ%3D%3D?line=7'>8</a>\u001b[0m server \u001b[39m=\u001b[39m Server(\n\u001b[1;32m      <a href='vscode-notebook-cell:/home/kuba/Documents/uni/semester_5/kds/udpai/notebooks/test_packet.ipynb#W4sZmlsZQ%3D%3D?line=8'>9</a>\u001b[0m     local_ip\u001b[39m=\u001b[39;49mlocal_ip,\n\u001b[1;32m     <a href='vscode-notebook-cell:/home/kuba/Documents/uni/semester_5/kds/udpai/notebooks/test_packet.ipynb#W4sZmlsZQ%3D%3D?line=9'>10</a>\u001b[0m     local_port \u001b[39m=\u001b[39;49m local_port,\n\u001b[1;32m     <a href='vscode-notebook-cell:/home/kuba/Documents/uni/semester_5/kds/udpai/notebooks/test_packet.ipynb#W4sZmlsZQ%3D%3D?line=10'>11</a>\u001b[0m     remote_ip\u001b[39m=\u001b[39;49mremote_ip,\n\u001b[1;32m     <a href='vscode-notebook-cell:/home/kuba/Documents/uni/semester_5/kds/udpai/notebooks/test_packet.ipynb#W4sZmlsZQ%3D%3D?line=11'>12</a>\u001b[0m     remote_port\u001b[39m=\u001b[39;49mremote_port\n\u001b[1;32m     <a href='vscode-notebook-cell:/home/kuba/Documents/uni/semester_5/kds/udpai/notebooks/test_packet.ipynb#W4sZmlsZQ%3D%3D?line=12'>13</a>\u001b[0m )\n\u001b[1;32m     <a href='vscode-notebook-cell:/home/kuba/Documents/uni/semester_5/kds/udpai/notebooks/test_packet.ipynb#W4sZmlsZQ%3D%3D?line=14'>15</a>\u001b[0m \u001b[39mprint\u001b[39m(\u001b[39m\"\u001b[39m\u001b[39mServer is listening...\u001b[39m\u001b[39m\"\u001b[39m)\n\u001b[1;32m     <a href='vscode-notebook-cell:/home/kuba/Documents/uni/semester_5/kds/udpai/notebooks/test_packet.ipynb#W4sZmlsZQ%3D%3D?line=15'>16</a>\u001b[0m \u001b[39mwhile\u001b[39;00m \u001b[39mTrue\u001b[39;00m:\n",
      "File \u001b[0;32m~/Documents/uni/semester_5/kds/udpai/src/udpai/server.py:13\u001b[0m, in \u001b[0;36mServer.__init__\u001b[0;34m(self, local_ip, local_port, remote_ip, remote_port)\u001b[0m\n\u001b[1;32m     10\u001b[0m \u001b[39mdef\u001b[39;00m \u001b[39m__init__\u001b[39m(\n\u001b[1;32m     11\u001b[0m     \u001b[39mself\u001b[39m, local_ip: \u001b[39mstr\u001b[39m, local_port: \u001b[39mint\u001b[39m, remote_ip: \u001b[39mstr\u001b[39m, remote_port: \u001b[39mint\u001b[39m\n\u001b[1;32m     12\u001b[0m ):\n\u001b[0;32m---> 13\u001b[0m     \u001b[39mself\u001b[39;49m\u001b[39m.\u001b[39;49msetup_sockets(local_ip, local_port, remote_ip, remote_port)\n",
      "File \u001b[0;32m~/Documents/uni/semester_5/kds/udpai/src/udpai/server.py:20\u001b[0m, in \u001b[0;36mServer.setup_sockets\u001b[0;34m(self, local_ip, local_port, remote_ip, remote_port)\u001b[0m\n\u001b[1;32m     18\u001b[0m socket_settings \u001b[39m=\u001b[39m [socket\u001b[39m.\u001b[39mAF_INET, socket\u001b[39m.\u001b[39mSOCK_DGRAM]  \u001b[39m# Internet, UDP\u001b[39;00m\n\u001b[1;32m     19\u001b[0m \u001b[39mself\u001b[39m\u001b[39m.\u001b[39mlocal_socket \u001b[39m=\u001b[39m socket\u001b[39m.\u001b[39msocket(\u001b[39m*\u001b[39msocket_settings)\n\u001b[0;32m---> 20\u001b[0m \u001b[39mself\u001b[39;49m\u001b[39m.\u001b[39;49mlocal_socket\u001b[39m.\u001b[39;49mbind((local_ip, local_port))\n\u001b[1;32m     21\u001b[0m \u001b[39mself\u001b[39m\u001b[39m.\u001b[39mlocal_ip \u001b[39m=\u001b[39m local_ip\n\u001b[1;32m     22\u001b[0m \u001b[39mself\u001b[39m\u001b[39m.\u001b[39mlocal_port \u001b[39m=\u001b[39m local_port\n",
      "\u001b[0;31mOSError\u001b[0m: [Errno 98] Address already in use"
     ]
    }
   ],
   "source": [
    "from udpai.server import Server\n",
    "\n",
    "local_ip = \"10.0.0.80\"\n",
    "local_port = 5005 \n",
    "remote_ip = \"10.0.0.81\"\n",
    "remote_port = 5005\n",
    "\n",
    "server = Server(\n",
    "    local_ip=local_ip,\n",
    "    local_port = local_port,\n",
    "    remote_ip=remote_ip,\n",
    "    remote_port=remote_port\n",
    ")\n",
    "\n",
    "print(\"Server is listening...\")\n",
    "while True:\n",
    "    packet = server.receive()\n",
    "    print(packet)"
   ]
  },
  {
   "cell_type": "code",
   "execution_count": 7,
   "metadata": {},
   "outputs": [],
   "source": [
    "del(server)"
   ]
  },
  {
   "cell_type": "code",
   "execution_count": null,
   "metadata": {},
   "outputs": [],
   "source": []
  }
 ],
 "metadata": {
  "kernelspec": {
   "display_name": "Python 3",
   "language": "python",
   "name": "python3"
  },
  "language_info": {
   "codemirror_mode": {
    "name": "ipython",
    "version": 3
   },
   "file_extension": ".py",
   "mimetype": "text/x-python",
   "name": "python",
   "nbconvert_exporter": "python",
   "pygments_lexer": "ipython3",
   "version": "3.8.10"
  }
 },
 "nbformat": 4,
 "nbformat_minor": 2
}
